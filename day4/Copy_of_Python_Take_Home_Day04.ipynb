{
  "nbformat": 4,
  "nbformat_minor": 0,
  "metadata": {
    "colab": {
      "name": "Copy of Python-Take-Home-Day04.ipynb",
      "provenance": [],
      "collapsed_sections": [
        "tNlmpzRg0m_g"
      ]
    },
    "kernelspec": {
      "name": "python3",
      "display_name": "Python 3"
    },
    "language_info": {
      "name": "python"
    }
  },
  "cells": [
    {
      "cell_type": "markdown",
      "source": [
        "# **Problems**"
      ],
      "metadata": {
        "id": "2xF0vbiW0lOZ"
      }
    },
    {
      "cell_type": "markdown",
      "source": [
        "## **Problem 01**\n",
        "\n",
        "### **Perfect squares with all digits even (using functional paradigm)**\n",
        "\n",
        "Find all 4-digit numbers that are perfect squares and have all four digits even.\n",
        "\n",
        "For example, 6400 is one such number.\n",
        "\n",
        "The expected output is ```[4624, 6084, 6400, 8464]```."
      ],
      "metadata": {
        "id": "tNlmpzRg0m_g"
      }
    },
    {
      "cell_type": "code",
      "execution_count": 1,
      "metadata": {
        "id": "6Aw2DRjZ0gJ1",
        "outputId": "a03f2433-ebc5-4795-93fb-60926f7c5a45",
        "colab": {
          "base_uri": "https://localhost:8080/"
        }
      },
      "outputs": [
        {
          "output_type": "stream",
          "name": "stdout",
          "text": [
            "[4624, 6084, 6400, 8464]\n"
          ]
        }
      ],
      "source": [
        "from math import sqrt\n",
        "from typing import List\n",
        "def checkPerfectSquare(n : int) -> bool:\n",
        "    number = int(sqrt(n))\n",
        "    if(number * number == n):\n",
        "        return True\n",
        "    return False\n",
        "def checkEven(n : int) -> bool:\n",
        "    n = str(n)\n",
        "    for i in n:\n",
        "        if int(i) % 2 != 0:\n",
        "            return False\n",
        "    return True\n",
        "\n",
        "def even_digit_perfect_squares() -> List[int]:\n",
        "    four_digitNumber_list = list(range(1000, 10000))\n",
        "    perfect_square_list = list(filter(checkPerfectSquare, four_digitNumber_list))\n",
        "    even_perfect_square_list = list(filter(checkEven, perfect_square_list))\n",
        "    return even_perfect_square_list\n",
        "print(even_digit_perfect_squares())\n",
        "\n"
      ]
    },
    {
      "cell_type": "markdown",
      "source": [
        "## **Problem 02**\n",
        "\n",
        "### **Pythagorean Triplet**\n",
        "\n",
        "If p is the perimeter of a right angle triangle with integral length sides, ```[a,b,c]```, there are exactly three solutions for ```p = 120```.\n",
        "\n",
        "```[20, 48, 52], [24, 45, 51], [30, 40, 50]```\n",
        "\n",
        "For which value of p ≤ 1000, is the number of solutions maximised?\n",
        "\n"
      ],
      "metadata": {
        "id": "y8qekle923fN"
      }
    },
    {
      "cell_type": "code",
      "source": [
        "def checkPythagorianTriplet(a: int , b : int, c : int)-> bool:\n",
        "    return a**2+b**2 == c**2\n",
        "def checkPeri(a: int, b: int,c:int, p: int) -> bool:\n",
        "    return a+b+c == p\n",
        "def number_of_maximised_solution(limit: int):\n",
        "    res = 0\n",
        "    for i in range(1,limit+1):\n",
        "        for j in range(i, limit+1):\n",
        "            c = limit - i - j\n",
        "            if(checkPeri(i,j,c,limit) and checkPythagorianTriplet(i,j,c)):\n",
        "                res+=1\n",
        "    return res\n",
        "\n",
        "print(number_of_maximised_solution(120))"
      ],
      "metadata": {
        "id": "-TnqEycy2jXr",
        "colab": {
          "base_uri": "https://localhost:8080/"
        },
        "outputId": "bdeea1be-2afa-43a9-b34d-cc09153d8d2a"
      },
      "execution_count": 4,
      "outputs": [
        {
          "output_type": "stream",
          "name": "stdout",
          "text": [
            "3\n"
          ]
        }
      ]
    },
    {
      "cell_type": "code",
      "source": [
        "a = 30\n",
        "b = 40\n",
        "c = 50\n",
        "\n",
        "p = a + b + c\n",
        "p"
      ],
      "metadata": {
        "colab": {
          "base_uri": "https://localhost:8080/"
        },
        "id": "bsNLksVEuHxC",
        "outputId": "fb90f830-9ed4-4876-ca10-e76f4d13473e"
      },
      "execution_count": null,
      "outputs": [
        {
          "output_type": "execute_result",
          "data": {
            "text/plain": [
              "120"
            ]
          },
          "metadata": {},
          "execution_count": 6
        }
      ]
    },
    {
      "cell_type": "code",
      "source": [
        "a ** 2 + b ** 2 == c ** 2"
      ],
      "metadata": {
        "colab": {
          "base_uri": "https://localhost:8080/"
        },
        "id": "JhmGIp5KueuG",
        "outputId": "00c10aa4-112d-48c2-b7ef-b0de8a01defd"
      },
      "execution_count": null,
      "outputs": [
        {
          "output_type": "execute_result",
          "data": {
            "text/plain": [
              "True"
            ]
          },
          "metadata": {},
          "execution_count": 9
        }
      ]
    },
    {
      "cell_type": "code",
      "source": [
        "c ** 2"
      ],
      "metadata": {
        "colab": {
          "base_uri": "https://localhost:8080/"
        },
        "id": "ZqZgwD9ZusV2",
        "outputId": "f1fb0a16-0ef7-4546-c215-e2a5cd566bf0"
      },
      "execution_count": null,
      "outputs": [
        {
          "output_type": "execute_result",
          "data": {
            "text/plain": [
              "2500"
            ]
          },
          "metadata": {},
          "execution_count": 8
        }
      ]
    },
    {
      "cell_type": "code",
      "source": [
        "p = 1\n",
        "p = 2\n",
        ".\n",
        ".\n",
        ".920 -> 16\n",
        "p = 1000"
      ],
      "metadata": {
        "id": "-GxJJpqJutJT"
      },
      "execution_count": null,
      "outputs": []
    }
  ]
}