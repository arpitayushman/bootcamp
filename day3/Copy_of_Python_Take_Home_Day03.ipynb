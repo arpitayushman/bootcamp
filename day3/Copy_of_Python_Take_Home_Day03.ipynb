{
  "nbformat": 4,
  "nbformat_minor": 0,
  "metadata": {
    "colab": {
      "name": "Copy of Python-Take-Home-Day03.ipynb",
      "provenance": [],
      "collapsed_sections": []
    },
    "kernelspec": {
      "name": "python3",
      "display_name": "Python 3"
    },
    "language_info": {
      "name": "python"
    }
  },
  "cells": [
    {
      "cell_type": "markdown",
      "source": [
        "# **Problems**"
      ],
      "metadata": {
        "id": "KxSPHU5JRAsm"
      }
    },
    {
      "cell_type": "markdown",
      "source": [
        "## **Problem 01**\n",
        "\n",
        "### **Diamond Pattern**\n",
        "\n",
        "Construct a pattern like below with the given size.\n",
        "     \n",
        "        *\n",
        "       * *\n",
        "      * * *\n",
        "     * * * *\n",
        "    * * * * *\n",
        "     * * * *\n",
        "      * * *\n",
        "       * *\n",
        "        *\n"
      ],
      "metadata": {
        "id": "yXhiu3aSRC8R"
      }
    },
    {
      "cell_type": "code",
      "execution_count": 1,
      "metadata": {
        "id": "Ztckq9TmQqtc",
        "colab": {
          "base_uri": "https://localhost:8080/"
        },
        "outputId": "f044ae8d-ee88-44c9-ebba-45a8c91268f5"
      },
      "outputs": [
        {
          "output_type": "stream",
          "name": "stdout",
          "text": [
            "    * \n",
            "   * * \n",
            "  * * * \n",
            " * * * * \n",
            "* * * * * \n",
            " * * * * \n",
            "  * * * \n",
            "   * * \n",
            "    * \n",
            "\n"
          ]
        }
      ],
      "source": [
        "def format_diamond_pattern(n: int):\n",
        "    spaces = n\n",
        "    CRLF = '\\n'\n",
        "    ans = \"\"\n",
        "    for i in range(1, n+1):\n",
        "        for j in range(1,spaces):\n",
        "            ans += \" \"\n",
        "        for j in range(1,i+1):\n",
        "            ans += \"* \"\n",
        "        ans += CRLF\n",
        "        spaces-=1\n",
        "    spaces = 2\n",
        "    for i in range(n-1, 0, -1):\n",
        "        for j in range(1,spaces):\n",
        "            ans += \" \"\n",
        "        for j in range(1,i+1):\n",
        "            ans += \"* \"\n",
        "        ans += CRLF\n",
        "        spaces+=1\n",
        "    return ans\n",
        "print(format_diamond_pattern(5))"
      ]
    },
    {
      "cell_type": "markdown",
      "source": [
        "## **Problem 02**\n",
        "\n",
        "### **Pyramid with \"+-+\" Pattern**\n",
        "\n",
        "Construct a pattern like below with the given size.\n",
        "\n",
        "        +\n",
        "       +-+\n",
        "      +---+\n",
        "     +-----+\n",
        "    +-------+\n"
      ],
      "metadata": {
        "id": "aTIHA1dxSuZu"
      }
    },
    {
      "cell_type": "code",
      "source": [
        "def format_plus_minus_pyramid(n: int) -> str:\n",
        "    minus = -1\n",
        "    plus = 1\n",
        "    space = n\n",
        "    output = \"\"\n",
        "    for i in range(1, n + 1):\n",
        "        for j in range(1, space):\n",
        "            output += \" \"\n",
        "        output += \"+\"\n",
        "        for k in range(0, minus):\n",
        "            output += \"-\"\n",
        "        if i != 1:\n",
        "            output += \"+\"\n",
        "        minus += 2\n",
        "        space -= 1\n",
        "        output += \"\\n\"\n",
        "    return output\n",
        "print(format_plus_minus_pyramid(10))"
      ],
      "metadata": {
        "id": "DFLgfGziTA59",
        "colab": {
          "base_uri": "https://localhost:8080/"
        },
        "outputId": "f9c34b6a-0c5d-4d15-8086-fbc789f6bed7"
      },
      "execution_count": 3,
      "outputs": [
        {
          "output_type": "stream",
          "name": "stdout",
          "text": [
            "         +\n",
            "        +-+\n",
            "       +---+\n",
            "      +-----+\n",
            "     +-------+\n",
            "    +---------+\n",
            "   +-----------+\n",
            "  +-------------+\n",
            " +---------------+\n",
            "+-----------------+\n",
            "\n"
          ]
        }
      ]
    }
  ]
}