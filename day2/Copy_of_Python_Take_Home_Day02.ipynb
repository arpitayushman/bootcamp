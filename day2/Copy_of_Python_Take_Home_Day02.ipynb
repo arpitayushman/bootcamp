{
  "nbformat": 4,
  "nbformat_minor": 0,
  "metadata": {
    "colab": {
      "name": "Copy of Python-Take-Home-Day02.ipynb",
      "provenance": [],
      "collapsed_sections": []
    },
    "kernelspec": {
      "name": "python3",
      "display_name": "Python 3"
    },
    "language_info": {
      "name": "python"
    }
  },
  "cells": [
    {
      "cell_type": "markdown",
      "source": [
        "# **Problems**"
      ],
      "metadata": {
        "id": "-ebJhzZgAZdI"
      }
    },
    {
      "cell_type": "markdown",
      "source": [
        "## **Problem 01**\n",
        "\n",
        "### **Figures to Words (Western Style)**\n",
        "\n",
        "Write a function to convert figures to words in Western Number System using Dictionary:\n",
        "\n",
        "1367 -> \"One thousand three hundred and sixty seven\"\n",
        "\n",
        "18934345 -> \"Eighteen million nine hundred and thirty four thousand three hundred and forty five\"\n",
        "\n",
        "**Note:** You can assume that the numbers are below 1 trillion"
      ],
      "metadata": {
        "id": "k2L4TwpQAbWc"
      }
    },
    {
      "cell_type": "code",
      "execution_count": 1,
      "metadata": {
        "id": "OffQ1Il7APe4",
        "colab": {
          "base_uri": "https://localhost:8080/"
        },
        "outputId": "2f99e61c-5ae1-4929-b849-8ed220b97caa"
      },
      "outputs": [
        {
          "output_type": "stream",
          "name": "stdout",
          "text": [
            "Eighteen Million,Nine Hundred and Thirty Four Thousand,Three hundred and Forty Five                      \n"
          ]
        }
      ],
      "source": [
        "def figures2words(n: str) -> str:\n",
        "    n = str(n)\n",
        "    ones = tens = {'0': 'Ten ', '1':'One ', '2':'Two ','3':'Three ', '4':'Four ', '5':'Five ', '6':'Six ','7':'seven ', '8':'eight ', '9':'nine '}\n",
        "    tens = {'0': 'Ten ', '1':'Eleven ', '2':'Twelve ','3':'Thirteen ', '4':'Fourteen ', '5':'Fifteen ', '6':'Sixteen ','7':'Seventeen ', '8':'Eighteen ', '9':'Nineteen  '}\n",
        "    hundreds = {'0': '', '1 ':'One Hunderd and ', '2':'Two Hundred and ', '3':'Three hundred and ', '4':'Four hundred and ', '5':'Five hundred and ', '6':'Six Hundred and ','7':'Seven Hundred and ', '8':'Eight hundred and ', '9':'Nine Hundred and '}\n",
        "    decades = {'0': '', '2': 'Twenty ', '3': 'Thirty ', '4': 'Forty ','5': 'Fifty ', '6': 'Sixty ',\n",
        "            '7': 'Seventy ', '8': 'Eighty ', '9': 'Ninety '}\n",
        "    comma = {'3':'Thousand,', '6':'Million,', '9':'Billion,'}\n",
        "    word = \"\"\n",
        "    integer_side = n\n",
        "    int_length = len(n)\n",
        "    integer_change = len(n)\n",
        "    change = 3\n",
        "    while integer_change > 0:\n",
        "        if n == '0':\n",
        "            word = 'zero'\n",
        "            break\n",
        "        if integer_side[integer_change-2] == '1':\n",
        "            for digit in tens:\n",
        "                if integer_side[integer_change-1] == digit:\n",
        "                    word+=\" \"\n",
        "                    word = tens[digit]+word\n",
        "        else:\n",
        "            for digit_1 in ones:\n",
        "                if integer_side[integer_change-1] == digit_1:\n",
        "                    word += \" \"\n",
        "                    word = ones[digit_1]+word\n",
        "            if integer_change>1:\n",
        "                for digit_2 in decades:\n",
        "                    word += \" \"\n",
        "                    if integer_side[integer_change-2] == digit_2:\n",
        "                        word = decades[digit_2]+word\n",
        "        if integer_change > 2:\n",
        "            for digit_3 in hundreds:\n",
        "                if integer_side[integer_change-3] == digit_3:\n",
        "                    word = hundreds[digit_3]+word\n",
        "        if integer_change > 3:\n",
        "            word = comma[str(change)]+word\n",
        "        change = change+3\n",
        "        integer_change = integer_change - 3\n",
        "    return word\n",
        "\n",
        "\n",
        "\n",
        "print(figures2words(18934345))"
      ]
    },
    {
      "cell_type": "markdown",
      "source": [
        "## **Problem 02**\n",
        "\n",
        "### **Roman to Arabic and Arabic to Roman**\n",
        "\n",
        "Implement two functions that converts roman number to arabic number and vice versa\n",
        "\n",
        "Example:\n",
        "\n",
        " > roman2arabic(\"V\") --> 5\n",
        "\n",
        " > arabic2roman(9) --> \"IX\""
      ],
      "metadata": {
        "id": "BQW_KWfjDI7m"
      }
    },
    {
      "cell_type": "code",
      "source": [
        "def roman2arabic(roman_number: str) -> int:\n",
        "    roman_dict = {'I': 1, 'V': 5, 'X': 10, 'L': 50, 'C': 100, 'D': 500, 'M': 1000}\n",
        "    arabic = 0\n",
        "    for i in range(len(roman_number)):\n",
        "        if i > 0 and roman_dict[roman_number[i]] > roman_dict[roman_number[i - 1]]:\n",
        "            arabic += roman_dict[roman_number[i]] - 2 * roman_dict[roman_number[i - 1]]\n",
        "        else:\n",
        "            arabic += roman_dict[roman_number[i]]\n",
        "    return arabic\n",
        "\n",
        "def arabic2roman(arabic_number: int) -> str:\n",
        "    digits = [1, 4, 5, 9, 10, 40, 50, 90, 100, 400, 500, 900, 1000]\n",
        "    roman_letters = [\"I\", \"IV\", \"V\", \"IX\", \"X\", \"XL\", \"L\", \"XC\", \"C\", \"CD\", \"D\", \"CM\", \"M\"]\n",
        "    i = 12\n",
        "    word = \"\"\n",
        "    while arabic_number:\n",
        "        div = arabic_number // digits[i]\n",
        "        arabic_number %= digits[i]\n",
        "        while div:\n",
        "            word += roman_letters[i]\n",
        "            div -= 1\n",
        "        i -= 1\n",
        "    return word\n",
        "\n",
        "print(roman2arabic(\"V\"))\n",
        "print(arabic2roman(9))\n",
        "\n"
      ],
      "metadata": {
        "id": "4JEWOgyODJlz",
        "colab": {
          "base_uri": "https://localhost:8080/"
        },
        "outputId": "259dcfd8-3141-4d41-86f1-b131f4c4b6c4"
      },
      "execution_count": 2,
      "outputs": [
        {
          "output_type": "stream",
          "name": "stdout",
          "text": [
            "5\n",
            "IX\n"
          ]
        }
      ]
    }
  ]
}