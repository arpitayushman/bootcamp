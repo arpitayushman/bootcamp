{
  "nbformat": 4,
  "nbformat_minor": 0,
  "metadata": {
    "colab": {
      "name": "Copy of Python-Take-Home-Day05.ipynb",
      "provenance": [],
      "collapsed_sections": []
    },
    "kernelspec": {
      "name": "python3",
      "display_name": "Python 3"
    },
    "language_info": {
      "name": "python"
    }
  },
  "cells": [
    {
      "cell_type": "markdown",
      "source": [
        "# **Problems**"
      ],
      "metadata": {
        "id": "2xF0vbiW0lOZ"
      }
    },
    {
      "cell_type": "markdown",
      "source": [
        "## **Problem 01**\n",
        "\n",
        "### **Sales Person**\n",
        "\n",
        "Suppose you are an owner of a company. You have several salespersons. They buy products from the factories and sell products to people.\n",
        "\n",
        "* Create a class called Salesperson as follows:\n",
        "* Each instance of the Salesperson class will hold the following information: name, record, and value\n",
        "    * The name is a string, which is the salesperson's name.\n",
        "    * The record is a dictionary of products in stock.\n",
        "        - For the record, the key is the item name, and the value is a list with two elements ```[cost, quantity]```.\n",
        "        - Cost is the cost of the item, quantity is the quantity of the item the salespersons have.\n",
        "    * Value is a float number, which is their current profit/loss.\n",
        "\n",
        "**Your task is to implement the following class methods:**\n",
        "\n",
        "1. **```__init__(self, name)```:** the constructor creates a salesperson instance with a given name. After initialization, the record is an empty dictionary and the value is 0.\n",
        "2. **```get_name(self)```:** returns the name of the salesman\n",
        "3. **```buy_pro(self, product_name, market_price, quantity)```:** buy a product, ```(product_name, market_price, quantity)```, to owner's record. You need to update the record and value. If the product is in the record, update the values of ```record[product_name]```; if not, create a new key.\n",
        "4. **```sell_pro(self, product_name, market_price, quantity)```:** sell a product, ```(product_name, market_price, quantity)```, to owner's record. You need to update the record and value. Update the values of ```record[product_name]```. After the update, if the quantity becomes zero, delete the key.\n",
        "5. **```get_record(self)```:** returns the owner's product record.\n",
        "6. **```get_value(self)```:** returns the value in the account."
      ],
      "metadata": {
        "id": "tNlmpzRg0m_g"
      }
    },
    {
      "cell_type": "code",
      "execution_count": null,
      "metadata": {
        "id": "6Aw2DRjZ0gJ1",
        "outputId": "eefe0f3a-c774-428c-9fd6-97707a7fdf09",
        "colab": {
          "base_uri": "https://localhost:8080/"
        }
      },
      "outputs": [
        {
          "output_type": "stream",
          "name": "stdout",
          "text": [
            "Manish\n",
            "{'apple': 10, 'chocolate': 20, 'biscuit': 5}\n",
            "{'biscuit': 3}\n",
            "30\n",
            "{}\n"
          ]
        }
      ],
      "source": [
        "class Salesperson:\n",
        "    def __init__(self,name) -> None:\n",
        "        self.name = name\n",
        "        self.record = {}\n",
        "        self.value = 0\n",
        "    def get_name(self):\n",
        "        return self.name\n",
        "    def buy_pro(self,product_name, market_price, quantity):\n",
        "        if product_name in self.record:\n",
        "            self.record[product_name] += quantity\n",
        "        else:\n",
        "            self.record[product_name] = quantity\n",
        "        self.value -= (market_price * quantity)\n",
        "    def sell_pro(self,product_name, market_price, quantity):\n",
        "        if product_name in self.record:\n",
        "            self.record[product_name] -= quantity\n",
        "            if self.record[product_name] <= 0:\n",
        "                self.record.pop(product_name)\n",
        "        else:\n",
        "            self.record[product_name] = quantity\n",
        "        self.value += (market_price * quantity)\n",
        "    \n",
        "    def get_record(self):\n",
        "        return self.record\n",
        "    def get_value(self):\n",
        "        return self.value\n",
        "person_A = Salesperson(\"Manish\")\n",
        "print(person_A.get_name())\n",
        "person_A.buy_pro(\"apple\", 10, 10)\n",
        "person_A.buy_pro(\"chocolate\", 5, 20)\n",
        "person_A.buy_pro(\"biscuit\", 25, 5)\n",
        "print(person_A.get_record())\n",
        "person_A.sell_pro(\"apple\", 12, 10)\n",
        "person_A.sell_pro(\"chocolate\", 5, 20)\n",
        "person_A.sell_pro(\"biscuit\", 30, 2)\n",
        "print(person_A.get_record())\n",
        "person_A.sell_pro(\"biscuit\", 25, 3)\n",
        "print(person_A.get_value())\n",
        "print(person_A.get_record())"
      ]
    },
    {
      "cell_type": "markdown",
      "source": [
        "## **Problem 02**\n",
        "\n",
        "### **Student Records**\n",
        "\n",
        "You are given a file records.csv containing the data for few students. Kindly take a look at the file. In this question, you shall write a Python class called Records, which shall have four methods, and two member dictionaries The first dictionary shall be used to store student records, and the second a GPA scale:\n",
        "\n",
        "1. **__init__(self, filename):**\n",
        "This is the constructor method for the class. It should take the filename given as input (e.g. records.csv), and populate the first dictionary as follows:\n",
        "    * the keys of the dictionary should be student names\n",
        "    * the values of the dictionary should be a list, containing Department Year, Course1 grade, Course2 grade,Course3 grade, and Course4 grade. This is the information that appears in the file records.csv for each student. E.g. ```{'Jd': ['CS', 'Fresher', 'C+', 'D+' , 'F', 'D-'], ...}```\n",
        "\n",
        "This method should also populate the second dictionary, a grade-to-numerical value map, whose keys should be the letter grades from A+ to F, and whose values should be the numerical GPA for the letter grade that Purdue has in its grading system, e.g.\n",
        "```python\n",
        "{\n",
        "    'A+': 4.3,\n",
        "    'A': 4.0,\n",
        "    'A-': 3.7,\n",
        "    'B+': 3.3,\n",
        "    'B': 3.0,\n",
        "    'B-': 2.7,\n",
        "    'C+': 2.3,\n",
        "    'C': 2.0,\n",
        "    'C-': 1.7,\n",
        "    'D+': 1.3,\n",
        "    'D': 1.0,\n",
        "    'D-': 0.7,\n",
        "    'F': 0.0\n",
        "}\n",
        "```\n",
        "2. **get_records(self, student):**\n",
        "This methods should take a student name as input, and look up the record of this student in the first dictionary created by the __init__() method. If the student exists in the records, then it should return the student's record which will be a list. If the student does not exist, then it should return a string saying **\"No record for <student> found!\"** (replace **<student>** with its actually string value).\n",
        "3. **insert_record(self, info):** \n",
        "This method should take a list containing a record for a student as input, e g. ```['Jason','Philosophy','Fresher','A','B','C','D']```, and insert it in the first dictionary prepared by the **__init__()** method. So after running this method, there should be a record for student Jason in dictionary, i.e. an entry like ```{..., 'Jason': ['Philosophy','Fresher','A','B','C','D'],...}```\n",
        "4. **compute_gpa(self, student):**\n",
        "This method shall take a student name as input. If the student exists in the first dictionary, then it should use the second dictionary, the grading scales, to compute and return the gpa for this student. Assume that each of the four courses whose grades are recorded are of 4 credit hours. If there is no record for the student passed as input, then the method should return a String saying **\"No record for <student> found!\"**."
      ],
      "metadata": {
        "id": "y8qekle923fN"
      }
    },
    {
      "cell_type": "code",
      "source": [
        "from typing import List, Union\n",
        "\n",
        "class Records:\n",
        "    def __init__(self, filename: str):\n",
        "        with open(filename,'r') as file:\n",
        "            inp = file.readlines()\n",
        "            self.student_records = {}\n",
        "            for l in inp[1:]:\n",
        "                record = l.strip('\\n')\n",
        "                self.student_records[record[0]] = record[1:]\n",
        "        self.grade_in_number = {\n",
        "            'A+': 4.3,\n",
        "            'A': 4.0,\n",
        "            'A-': 3.7,\n",
        "            'B+': 3.3,\n",
        "            'B': 3.0,\n",
        "            'B-': 2.7,\n",
        "            'C+': 2.3,\n",
        "            'C': 2.0,\n",
        "            'C-': 1.7,\n",
        "            'D+': 1.3,\n",
        "            'D': 1.0,\n",
        "            'D-': 0.7,\n",
        "            'F': 0.0\n",
        "        }\n",
        "    def get_records(self, student):\n",
        "        if student in self.student_records.keys():\n",
        "            return self.student_records.get(student)\n",
        "        else:\n",
        "            return \"No records for \"+student+\" found\"\n",
        "    def insert_record(self, info):\n",
        "        self.student_records[info[0]] = info[1:]\n",
        "    def compute_gpa(self,student):\n",
        "        if not student in self.student_records.keys():\n",
        "            return \"No record for \"+student+\" found!\"\n",
        "        total = []\n",
        "        hours = 4\n",
        "        grades = self.student_records.get(student)[2:]\n",
        "        for i in grades:\n",
        "            total.append(hours * self.grade_in_number.get(i))\n",
        "        total_hours = 4*len(grades)\n",
        "        return (sum(total)/total_hours,3)\n",
        "\n",
        "student_record = Records('content/records.csv')\n",
        "print(student_record.get_records('Gary'))\n",
        "print(student_record.get_records('Manish'))\n",
        "student_record.insert_record(['Manish', 'CS', 'Graduate', 'A', 'A+', 'B+', 'A+'])\n",
        "print(student_record.get_records('Manish'))\n",
        "print(student_record.compute_gpa('Manish'))\n"
      ],
      "metadata": {
        "id": "-TnqEycy2jXr",
        "colab": {
          "base_uri": "https://localhost:8080/",
          "height": 356
        },
        "outputId": "5128ae88-da84-4d34-f911-531780c4dae8"
      },
      "execution_count": 4,
      "outputs": [
        {
          "output_type": "error",
          "ename": "FileNotFoundError",
          "evalue": "ignored",
          "traceback": [
            "\u001b[0;31m---------------------------------------------------------------------------\u001b[0m",
            "\u001b[0;31mFileNotFoundError\u001b[0m                         Traceback (most recent call last)",
            "\u001b[0;32m<ipython-input-4-a8b52f9f8436>\u001b[0m in \u001b[0;36m<module>\u001b[0;34m()\u001b[0m\n\u001b[1;32m     42\u001b[0m         \u001b[0;32mreturn\u001b[0m \u001b[0;34m(\u001b[0m\u001b[0msum\u001b[0m\u001b[0;34m(\u001b[0m\u001b[0mtotal\u001b[0m\u001b[0;34m)\u001b[0m\u001b[0;34m/\u001b[0m\u001b[0mtotal_hours\u001b[0m\u001b[0;34m,\u001b[0m\u001b[0;36m3\u001b[0m\u001b[0;34m)\u001b[0m\u001b[0;34m\u001b[0m\u001b[0;34m\u001b[0m\u001b[0m\n\u001b[1;32m     43\u001b[0m \u001b[0;34m\u001b[0m\u001b[0m\n\u001b[0;32m---> 44\u001b[0;31m \u001b[0mstudent_record\u001b[0m \u001b[0;34m=\u001b[0m \u001b[0mRecords\u001b[0m\u001b[0;34m(\u001b[0m\u001b[0;34m'content/records.csv'\u001b[0m\u001b[0;34m)\u001b[0m\u001b[0;34m\u001b[0m\u001b[0;34m\u001b[0m\u001b[0m\n\u001b[0m\u001b[1;32m     45\u001b[0m \u001b[0mprint\u001b[0m\u001b[0;34m(\u001b[0m\u001b[0mstudent_record\u001b[0m\u001b[0;34m.\u001b[0m\u001b[0mget_records\u001b[0m\u001b[0;34m(\u001b[0m\u001b[0;34m'Gary'\u001b[0m\u001b[0;34m)\u001b[0m\u001b[0;34m)\u001b[0m\u001b[0;34m\u001b[0m\u001b[0;34m\u001b[0m\u001b[0m\n\u001b[1;32m     46\u001b[0m \u001b[0mprint\u001b[0m\u001b[0;34m(\u001b[0m\u001b[0mstudent_record\u001b[0m\u001b[0;34m.\u001b[0m\u001b[0mget_records\u001b[0m\u001b[0;34m(\u001b[0m\u001b[0;34m'Manish'\u001b[0m\u001b[0;34m)\u001b[0m\u001b[0;34m)\u001b[0m\u001b[0;34m\u001b[0m\u001b[0;34m\u001b[0m\u001b[0m\n",
            "\u001b[0;32m<ipython-input-4-a8b52f9f8436>\u001b[0m in \u001b[0;36m__init__\u001b[0;34m(self, filename)\u001b[0m\n\u001b[1;32m      3\u001b[0m \u001b[0;32mclass\u001b[0m \u001b[0mRecords\u001b[0m\u001b[0;34m:\u001b[0m\u001b[0;34m\u001b[0m\u001b[0;34m\u001b[0m\u001b[0m\n\u001b[1;32m      4\u001b[0m     \u001b[0;32mdef\u001b[0m \u001b[0m__init__\u001b[0m\u001b[0;34m(\u001b[0m\u001b[0mself\u001b[0m\u001b[0;34m,\u001b[0m \u001b[0mfilename\u001b[0m\u001b[0;34m:\u001b[0m \u001b[0mstr\u001b[0m\u001b[0;34m)\u001b[0m\u001b[0;34m:\u001b[0m\u001b[0;34m\u001b[0m\u001b[0;34m\u001b[0m\u001b[0m\n\u001b[0;32m----> 5\u001b[0;31m         \u001b[0;32mwith\u001b[0m \u001b[0mopen\u001b[0m\u001b[0;34m(\u001b[0m\u001b[0mfilename\u001b[0m\u001b[0;34m,\u001b[0m\u001b[0;34m'r'\u001b[0m\u001b[0;34m)\u001b[0m \u001b[0;32mas\u001b[0m \u001b[0mfile\u001b[0m\u001b[0;34m:\u001b[0m\u001b[0;34m\u001b[0m\u001b[0;34m\u001b[0m\u001b[0m\n\u001b[0m\u001b[1;32m      6\u001b[0m             \u001b[0minp\u001b[0m \u001b[0;34m=\u001b[0m \u001b[0mfile\u001b[0m\u001b[0;34m.\u001b[0m\u001b[0mreadlines\u001b[0m\u001b[0;34m(\u001b[0m\u001b[0;34m)\u001b[0m\u001b[0;34m\u001b[0m\u001b[0;34m\u001b[0m\u001b[0m\n\u001b[1;32m      7\u001b[0m             \u001b[0mself\u001b[0m\u001b[0;34m.\u001b[0m\u001b[0mstudent_records\u001b[0m \u001b[0;34m=\u001b[0m \u001b[0;34m{\u001b[0m\u001b[0;34m}\u001b[0m\u001b[0;34m\u001b[0m\u001b[0;34m\u001b[0m\u001b[0m\n",
            "\u001b[0;31mFileNotFoundError\u001b[0m: [Errno 2] No such file or directory: 'content/records.csv'"
          ]
        }
      ]
    },
    {
      "cell_type": "code",
      "source": [
        ""
      ],
      "metadata": {
        "id": "yjS9fW8GvpBj"
      },
      "execution_count": null,
      "outputs": []
    },
    {
      "cell_type": "markdown",
      "source": [
        "# New Section"
      ],
      "metadata": {
        "id": "ionYrMjkvqHf"
      }
    },
    {
      "cell_type": "markdown",
      "source": [
        "# New Section"
      ],
      "metadata": {
        "id": "HUrNPU2zvqlY"
      }
    }
  ]
}