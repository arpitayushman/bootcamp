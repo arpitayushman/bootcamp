{
  "nbformat": 4,
  "nbformat_minor": 0,
  "metadata": {
    "colab": {
      "name": "Copy of Python-Take-Home-Day01.ipynb",
      "provenance": [],
      "collapsed_sections": []
    },
    "kernelspec": {
      "name": "python3",
      "display_name": "Python 3"
    },
    "language_info": {
      "name": "python"
    }
  },
  "cells": [
    {
      "cell_type": "markdown",
      "source": [
        "# **Problems**"
      ],
      "metadata": {
        "id": "SmVT6alTtnbj"
      }
    },
    {
      "cell_type": "markdown",
      "source": [
        "## **Problem 01**\n",
        "\n",
        "### **ROT 13**\n",
        "\n",
        "Implement a function which accepts a string as an argument and generates the ROT13 Caesar Cipher.\n",
        "\n",
        "The ROT-13 (i.e. rotate by 13 places) method is a very simple encryption method, in which one replaces each letter of the alphabet with the 13th letter after it. So, ‘A’ becomes ‘N’, ‘B’ becomes ‘M’ and so on. This method is a special case of the Caesar Cipher, with which Caesar encoded his letters in the ancient Rome.\n",
        "\n",
        "Here is our approach for encoding a given string:\n",
        "\n",
        "* Check if given input has all valid characters, i.e every character is an  alphabet [a - z or A - Z] - function is_string() returns \"True\" if the char is an alphabet.\n",
        "\n",
        "* As the next step we need to add 13 to  character and encode the character- rot13() returns the encoded character of the input character\n",
        "\n",
        "* Now we generate the encoded string using the function - generate_encrypted_string() which returns encoded string"
      ],
      "metadata": {
        "id": "-Z-SQc_TtpW_"
      }
    },
    {
      "cell_type": "code",
      "execution_count": null,
      "metadata": {
        "id": "BES0e4UStik_",
        "colab": {
          "base_uri": "https://localhost:8080/"
        },
        "outputId": "83cbbb23-8684-443e-d7ef-1f4261780c0b"
      },
      "outputs": [
        {
          "output_type": "stream",
          "name": "stdout",
          "text": [
            "ACPV Gnyragfcevag\n"
          ]
        }
      ],
      "source": [
        "def is_String(s : str) -> bool:\n",
        "    return s.isalpha()\n",
        "def rot13(i: str) -> str:\n",
        "    upper_alphabets = \"ABCDEFGHIJKLMNOPQRSTUVWXYZ\"\n",
        "    lower_alphabets = upper_alphabets.lower()\n",
        "    if is_String(i) == False:\n",
        "        return i\n",
        "    elif i.isupper():\n",
        "        index = (upper_alphabets.find(i)+13)%26\n",
        "        return upper_alphabets[index]\n",
        "    index = (lower_alphabets.find(i)+13)%26\n",
        "    return lower_alphabets[index]\n",
        "def generate_encrypted_string(text : str) -> str:\n",
        "    encoded_string = \"\"\n",
        "    for i in text:\n",
        "        encoded_string+=rot13(i)\n",
        "    return encoded_string\n",
        "print(generate_encrypted_string(\"NPCI Talentsprint\"))"
      ]
    },
    {
      "cell_type": "markdown",
      "source": [
        "## **Problem 02**\n",
        "\n",
        "### **Find Intersection**\n",
        "\n",
        "Write a function, find_intersection(), that reads a list of two strings:\n",
        "\n",
        "* The first is a list of comma-separated numbers sorted in ascending order\n",
        "* The second element is another list of comma-separated numbers (also sorted)\n",
        "\n",
        "Your goal is to return a string of numbers that occur in both elements of the input list in sorted order. If there is no intersection, return the string **\"No Intersection\"**\n",
        "\n",
        "**Sample Input 1:**\n",
        "\n",
        "[\"1, 3, 4, 7, 13\", \"1, 2, 4, 13, 15\"]\n",
        "\n",
        "**Sample Output 1:**\n",
        "\n",
        "\"1, 4, 13\"\n",
        "\n",
        "**Sample Input 2:**\n",
        "\n",
        "[\"11, 32, 43, 72, 138\", \"12, 26, 24, 113, 150\"]\n",
        "\n",
        "**Sample Output 2:**\n",
        "\n",
        "\"No Intersection\""
      ],
      "metadata": {
        "id": "rN6PPZJmwbND"
      }
    },
    {
      "cell_type": "code",
      "source": [
        "from typing import List\n",
        "\n",
        "def find_intersection(arr: List[str]) -> str:\n",
        "    ans =[]\n",
        "    first_list = list(set(arr[0].split(\",\")))\n",
        "    second_list = list(set(arr[1].split(\",\")))\n",
        "    for i in range(len(first_list)):\n",
        "        first_list[i] = int(first_list[i])\n",
        "    for i in range(len(second_list)):\n",
        "        second_list[i] = int(second_list[i])\n",
        "    for i in first_list:\n",
        "        if i in second_list:\n",
        "            ans.append(i)\n",
        "    if len(ans) == 0:\n",
        "        return '\"No Intersection\"'\n",
        "    ans.sort()\n",
        "    return ans\n",
        "\n",
        "\n",
        "find_intersection([\"1, 3, 4, 7, 13\", \"1, 2, 4, 13, 15\"])"
      ],
      "metadata": {
        "id": "bJhXOaZFxYBu",
        "colab": {
          "base_uri": "https://localhost:8080/"
        },
        "outputId": "7de3ffcd-bc77-495d-ff65-60c4ea48435c"
      },
      "execution_count": null,
      "outputs": [
        {
          "output_type": "execute_result",
          "data": {
            "text/plain": [
              "[1, 4, 13]"
            ]
          },
          "metadata": {},
          "execution_count": 2
        }
      ]
    }
  ]
}